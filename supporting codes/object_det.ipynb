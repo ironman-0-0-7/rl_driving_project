{
  "nbformat": 4,
  "nbformat_minor": 0,
  "metadata": {
    "colab": {
      "name": "object_det.ipynb",
      "provenance": [],
      "collapsed_sections": []
    },
    "kernelspec": {
      "name": "python3",
      "display_name": "Python 3"
    },
    "language_info": {
      "name": "python"
    },
    "accelerator": "GPU"
  },
  "cells": [
    {
      "cell_type": "code",
      "metadata": {
        "id": "d73Db4KbzCaF"
      },
      "source": [
        "import tensorflow as tf\n",
        "import tensorflow_hub as hub\n",
        "import numpy as np\n",
        "import cv2 "
      ],
      "execution_count": 3,
      "outputs": []
    },
    {
      "cell_type": "code",
      "metadata": {
        "id": "dZ7z64pA3zLA",
        "colab": {
          "base_uri": "https://localhost:8080/"
        },
        "outputId": "6d94bd25-5c70-4cb0-ad75-3d216357b9ca"
      },
      "source": [
        "from google.colab import drive\n",
        "drive.mount(\"/content/gdrive\")"
      ],
      "execution_count": 4,
      "outputs": [
        {
          "output_type": "stream",
          "text": [
            "Mounted at /content/gdrive\n"
          ],
          "name": "stdout"
        }
      ]
    },
    {
      "cell_type": "code",
      "metadata": {
        "id": "JFGq9wU_33eX",
        "colab": {
          "base_uri": "https://localhost:8080/"
        },
        "outputId": "84088abf-93c3-43ca-de13-00da877dd576"
      },
      "source": [
        "cd '/content/gdrive/My Drive/Projects /RL_Driving/ld8/video files'"
      ],
      "execution_count": 5,
      "outputs": [
        {
          "output_type": "stream",
          "text": [
            "/content/gdrive/My Drive/Projects /RL_Driving/ld8/video files\n"
          ],
          "name": "stdout"
        }
      ]
    },
    {
      "cell_type": "code",
      "metadata": {
        "id": "ETWmQe4qzG0Y"
      },
      "source": [
        "#resize image  new_width=256, new_height=256,\n",
        "def prep_img(path):\n",
        "  size=(256,256)\n",
        "  img=cv2.imread(path)\n",
        "  cv2.resize(img, size)\n",
        "  return img\n"
      ],
      "execution_count": 6,
      "outputs": []
    },
    {
      "cell_type": "code",
      "metadata": {
        "id": "5yJnk82ezTJ6",
        "colab": {
          "base_uri": "https://localhost:8080/"
        },
        "outputId": "0296222f-7291-49b2-da82-908c8d69fe0c"
      },
      "source": [
        "module_handle = \"https://tfhub.dev/google/faster_rcnn/openimages_v4/inception_resnet_v2/1\"\n",
        "detector = hub.load(module_handle).signatures['default']"
      ],
      "execution_count": 7,
      "outputs": [
        {
          "output_type": "stream",
          "text": [
            "INFO:tensorflow:Saver not created because there are no variables in the graph to restore\n"
          ],
          "name": "stdout"
        },
        {
          "output_type": "stream",
          "text": [
            "INFO:tensorflow:Saver not created because there are no variables in the graph to restore\n"
          ],
          "name": "stderr"
        }
      ]
    },
    {
      "cell_type": "code",
      "metadata": {
        "id": "g4aP8MaBzTtS"
      },
      "source": [
        "def run_detector(detector, path):\n",
        "  img = prep_img(path)\n",
        "\n",
        "  converted_img  = tf.image.convert_image_dtype(img, tf.float32)[tf.newaxis, ...]\n",
        "  result = detector(converted_img)\n",
        "  #result = {key:value.numpy() for key,value in result.items()}\n",
        "\n",
        "  #print(\"Found %d objects.\" % len(result[\"detection_scores\"]))\n",
        "  #print(\"Inference time: \", end_time-start_time)\n",
        "  \n",
        "\n",
        "  \n",
        "  image_with_boxes = draw_boxes(\n",
        "      img, result[\"detection_boxes\"],\n",
        "      result[\"detection_class_entities\"], result[\"detection_scores\"])\n",
        "  \n",
        "  return image_with_boxes"
      ],
      "execution_count": 8,
      "outputs": []
    },
    {
      "cell_type": "code",
      "metadata": {
        "id": "4WbsbM4qiUnI"
      },
      "source": [
        "classes_to_consider=['Car','Person','Land vehicle','Vehicle','Van','Truck']"
      ],
      "execution_count": 35,
      "outputs": []
    },
    {
      "cell_type": "code",
      "metadata": {
        "id": "QW8LI2g_zu2a"
      },
      "source": [
        "def draw_boxes(image, boxes, class_names, scores):\n",
        "  #print(boxes)\n",
        "  y=image.shape[0]\n",
        "  x=image.shape[1]\n",
        "  \n",
        "  num=boxes.shape[0]\n",
        "  #print(num)\n",
        "  \n",
        "  for i in range (0,num):\n",
        "\n",
        "\n",
        "    #print(i)\n",
        "    det_score=scores[i].numpy()\n",
        "    \n",
        "    #print(det_score)\n",
        "\n",
        "    threshold=0.1\n",
        "    \n",
        "    if(det_score>threshold):\n",
        "\n",
        "      class_name=class_names[i].numpy()\n",
        "      #class_name=class_names[i]\n",
        "      class_name=str(class_name, 'UTF-8')\n",
        "      #if class_name in classes_li:\n",
        "      #  pass\n",
        "      #else:\n",
        "      #  classes_li.append(class_name)\n",
        "      #print(class_name)\n",
        "      if class_name in classes_to_consider:\n",
        "        box=boxes[i].numpy()\n",
        "        ymin=int(box[0]*y)\n",
        "        xmin=int(box[1]*x)\n",
        "        ymax=int(box[2]*y)\n",
        "        xmax=int(box[3]*x)\n",
        "        #print(i,\"c\")\n",
        "        \n",
        "        image=cv2.rectangle(image,(xmin,ymin),(xmax,ymax),(0,255,0),2)\n",
        "\n",
        "        font = cv2.FONT_HERSHEY_SIMPLEX\n",
        "        org = (int((xmin+xmax)/2) ,int((ymin+ymax)/2))\n",
        "        fontScale = 1\n",
        "        color = (255, 0, 0)\n",
        "        thickness = 2\n",
        "        image = cv2.putText(image,class_name, org, font, \n",
        "                          fontScale, color, thickness, cv2.LINE_AA)\n",
        "    \n",
        "\n",
        "  return image "
      ],
      "execution_count": 36,
      "outputs": []
    },
    {
      "cell_type": "code",
      "metadata": {
        "colab": {
          "base_uri": "https://localhost:8080/"
        },
        "id": "GBD0u1SX_PRg",
        "outputId": "6a799133-2a5d-4af8-bf2e-e5332ce7cd29"
      },
      "source": [
        "img=run_detector(detector,'520.jpg')"
      ],
      "execution_count": 10,
      "outputs": [
        {
          "output_type": "stream",
          "text": [
            "100\n"
          ],
          "name": "stdout"
        }
      ]
    },
    {
      "cell_type": "code",
      "metadata": {
        "colab": {
          "base_uri": "https://localhost:8080/"
        },
        "id": "GTGjRNLxNPKy",
        "outputId": "ec6cf779-5a5e-476e-8bc9-b0913013b080"
      },
      "source": [
        "import os\n",
        "import cv2\n",
        "\n",
        "output=\"t3_det.mp4\"\n",
        "# Define the codec and create VideoWriter object\n",
        "fourcc = cv2.VideoWriter_fourcc(*'mp4v') # Be sure to use lower case\n",
        "\n",
        "#frame = cv2.imread(\"520.jpg\")\n",
        "height, width, channels = img.shape\n",
        "out = cv2.VideoWriter(output, fourcc, 20.0, (width, height))\n",
        "\n",
        "# Opens the Video file\n",
        "i=0;\n",
        "#video_name=\"y.avi\"\n",
        "cap= cv2.VideoCapture('t3_full_results.mp4')\n",
        "#video = cv2.VideoWriter(video_name, 0, 1, (720, 1280)) \n",
        "while(cap.isOpened()):\n",
        "    i=i+1;\n",
        "    print(i);\n",
        "    ret, frame = cap.read()\n",
        "    if ret == False:\n",
        "        break\n",
        "    cv2.imwrite('img'+'.jpg',frame)\n",
        "    img=run_detector(detector,'img.jpg')\n",
        "    #img=test(\"img.jpg\",\"res.txt\",griding_num)\n",
        "    out.write(img)\n",
        "    os.remove(\"img.jpg\")\n",
        "    #if(i==200):\n",
        "    #  break\n",
        "out.release()\n",
        "    \n",
        " "
      ],
      "execution_count": null,
      "outputs": [
        {
          "output_type": "stream",
          "text": [
            "1\n",
            "2\n",
            "3\n",
            "4\n",
            "5\n",
            "6\n",
            "7\n",
            "8\n",
            "9\n",
            "10\n",
            "11\n"
          ],
          "name": "stdout"
        }
      ]
    },
    {
      "cell_type": "code",
      "metadata": {
        "id": "maUO7VJmTafT"
      },
      "source": [
        "blk = np.zeros(shape=[512, 512], dtype=np.uint8)"
      ],
      "execution_count": 15,
      "outputs": []
    },
    {
      "cell_type": "code",
      "metadata": {
        "colab": {
          "base_uri": "https://localhost:8080/"
        },
        "id": "MIKybrMoTxUc",
        "outputId": "c7b03e8e-4b08-4388-fed7-bac57c5d80ed"
      },
      "source": [
        "cv2.imwrite(\"y.jpg\",blk)"
      ],
      "execution_count": 17,
      "outputs": [
        {
          "output_type": "execute_result",
          "data": {
            "text/plain": [
              "True"
            ]
          },
          "metadata": {
            "tags": []
          },
          "execution_count": 17
        }
      ]
    },
    {
      "cell_type": "code",
      "metadata": {
        "colab": {
          "base_uri": "https://localhost:8080/",
          "height": 269
        },
        "id": "TkiAzk1VFFuS",
        "outputId": "593fade8-1ce2-4fce-9428-d1eb5bbc4664"
      },
      "source": [
        "from matplotlib import pyplot as plt\n",
        "plt.imshow(blk)\n",
        "plt.show()"
      ],
      "execution_count": 16,
      "outputs": [
        {
          "output_type": "display_data",
          "data": {
            "image/png": "[encoded data removed]",
            "text/plain": [
              "<Figure size 432x288 with 1 Axes>"
            ]
          },
          "metadata": {
            "tags": [],
            "needs_background": "light"
          }
        }
      ]
    }
  ]
}