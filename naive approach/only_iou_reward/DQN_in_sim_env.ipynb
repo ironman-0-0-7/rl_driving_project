{
  "nbformat": 4,
  "nbformat_minor": 0,
  "metadata": {
    "colab": {
      "name": "DQN_in_sim_env.ipynb",
      "provenance": [],
      "collapsed_sections": []
    },
    "kernelspec": {
      "name": "python3",
      "display_name": "Python 3"
    },
    "language_info": {
      "name": "python"
    },
    "accelerator": "GPU"
  },
  "cells": [
    {
      "cell_type": "code",
      "metadata": {
        "id": "S75_cR_JNO2x"
      },
      "source": [
        "#learninmg rate decay rate 0.01 500 step \n",
        "decay_steps=100\n",
        "deacy_rate=0.001\n",
        "#learning rate \n",
        "#lr=0.001\n",
        "learning_rate=0.001"
      ],
      "execution_count": null,
      "outputs": []
    },
    {
      "cell_type": "code",
      "metadata": {
        "id": "21YR44wU17SS"
      },
      "source": [
        "import math, random\n",
        "#import gym\n",
        "import numpy as np\n",
        "import torch\n",
        "import torch.nn as nn\n",
        "import torch.optim as optim\n",
        "import torch.autograd as autograd \n",
        "import torch.nn.functional as F"
      ],
      "execution_count": null,
      "outputs": []
    },
    {
      "cell_type": "code",
      "metadata": {
        "id": "C5AE54Dd2DnZ"
      },
      "source": [
        "from IPython.display import clear_output\n",
        "import matplotlib.pyplot as plt\n",
        "%matplotlib inline"
      ],
      "execution_count": null,
      "outputs": []
    },
    {
      "cell_type": "code",
      "metadata": {
        "id": "8DU8Qv7Z2Fcv"
      },
      "source": [
        "USE_CUDA = torch.cuda.is_available()\n",
        "Variable = lambda *args, **kwargs: autograd.Variable(*args, **kwargs).cuda() if USE_CUDA else autograd.Variable(*args, **kwargs)\n",
        "#?"
      ],
      "execution_count": null,
      "outputs": []
    },
    {
      "cell_type": "code",
      "metadata": {
        "id": "TyWmdRY72IHe"
      },
      "source": [
        "from collections import deque\n",
        "\n",
        "class ReplayBuffer(object):\n",
        "    def __init__(self, capacity):\n",
        "        self.buffer = deque(maxlen=capacity)\n",
        "    \n",
        "    def push(self, state, action, reward, next_state, done):\n",
        "        state      = np.expand_dims(state, 0)\n",
        "        next_state = np.expand_dims(next_state, 0)\n",
        "        self.buffer.append((state, action, reward, next_state, done))\n",
        "    \n",
        "    def sample(self, batch_size):\n",
        "        state, action, reward, next_state, done = zip(*random.sample(self.buffer, batch_size))\n",
        "        return np.concatenate(state), action, reward, np.concatenate(next_state), done\n",
        "    \n",
        "    def __len__(self):\n",
        "        return len(self.buffer)"
      ],
      "execution_count": null,
      "outputs": []
    },
    {
      "cell_type": "markdown",
      "metadata": {
        "id": "dxz3ZX1Z8wrC"
      },
      "source": [
        "# env"
      ]
    },
    {
      "cell_type": "code",
      "metadata": {
        "id": "Kt24yqti80Il"
      },
      "source": [
        "import pickle\n",
        "import numpy as np\n",
        "import cv2"
      ],
      "execution_count": null,
      "outputs": []
    },
    {
      "cell_type": "code",
      "metadata": {
        "colab": {
          "base_uri": "https://localhost:8080/"
        },
        "id": "piGSP4mk83NT",
        "outputId": "4273cf9a-8f0d-4916-f9ad-7c6f82425658"
      },
      "source": [
        "from google.colab import drive\n",
        "drive.mount(\"/content/gdrive\")"
      ],
      "execution_count": null,
      "outputs": [
        {
          "output_type": "stream",
          "text": [
            "Mounted at /content/gdrive\n"
          ],
          "name": "stdout"
        }
      ]
    },
    {
      "cell_type": "code",
      "metadata": {
        "colab": {
          "base_uri": "https://localhost:8080/"
        },
        "id": "pMf9Xl6t9Idm",
        "outputId": "7fd98a2b-a6ee-4298-9e59-428ceaad9bf8"
      },
      "source": [
        "cd '/content/gdrive/My Drive/Projects /rl_pro'"
      ],
      "execution_count": null,
      "outputs": [
        {
          "output_type": "stream",
          "text": [
            "/content/gdrive/My Drive/Projects /rl_pro\n"
          ],
          "name": "stdout"
        }
      ]
    },
    {
      "cell_type": "code",
      "metadata": {
        "id": "haWSxjVk9Jsl"
      },
      "source": [
        "class sim_env:\n",
        "  '''\n",
        "  total frames 980 \n",
        "  980/4=245 frames \n",
        "  why dont u try frame skip only 4 frames per second \n",
        "  so 32 second / 32 step game \n",
        "  30 frames => you wanna select 4 => frame 1 , frame 10 , frame 20 , frame 30 \n",
        "  skip 10 frames \n",
        "  so 24 steps \n",
        "  1+40*24=961\n",
        "  if num>950 then done \n",
        "  '''\n",
        "  def __init__(self,bouding_box_list):\n",
        "        self.iou_sacle_factor=50;\n",
        "        self.frame_skip_step=10\n",
        "        #self.video_file_path = video_file_path\n",
        "        self.bouding_box_list = bouding_box_list\n",
        "        self.frame_num=0\n",
        "        #initial coord of car \n",
        "        self.x1=580\n",
        "        self.x2=717\n",
        "        self.y2=700\n",
        "        self.y1=600\n",
        "        self.step_size=20\n",
        "        #how many pixel car moves if action L or R is taken \n",
        "        #height and width of input video file image \n",
        "        self.height=720\n",
        "        self.width=1280\n",
        "        self.classes_to_consider=['Car','Person','Land vehicle','Vehicle','Van','Truck']\n",
        "        with open(bouding_box_list, \"rb\") as fp:\n",
        "          self.box_file=pickle.load(fp)\n",
        "  def reset(self):\n",
        "    self.frame_num=0\n",
        "    self.x1=580\n",
        "    self.x2=717\n",
        "    self.y2=700\n",
        "    self.y1=600\n",
        "    return self.return_frame_stack(self.frame_num)\n",
        "\n",
        "  def return_frame_stack(self,num):\n",
        "    frame1=self.return_frame(num)\n",
        "    frame2=self.return_frame(num+self.frame_skip_step)\n",
        "    frame3=self.return_frame(num+2*self.frame_skip_step)\n",
        "    frame4=self.return_frame(num+3*self.frame_skip_step)\n",
        "    frame_stack=np.stack((frame1,frame2,frame3,frame4),axis=0)\n",
        "\n",
        "    #state=torch.from_numpy(frame_stack)\n",
        "    #state=state.unsqueeze(0)\n",
        "    #state=state.float()\n",
        "    #return state\n",
        "    return frame_stack\n",
        "\n",
        "  def return_total_iou(self,num):\n",
        "    iou1=self.return_iou(num)\n",
        "    iou2=self.return_iou(num+self.frame_skip_step)\n",
        "    iou3=self.return_iou(num+2*self.frame_skip_step)\n",
        "    iou4=self.return_iou(num+3*self.frame_skip_step)\n",
        "    iou_total=iou1+iou2+iou3+iou4\n",
        "    return iou_total\n",
        "\n",
        "  def return_frame(self,num):\n",
        "    '''\n",
        "    make a blank image of correct dimension height and width\n",
        "    read file and get coord of cars \n",
        "    fill the blank image with bouding boxes of cars \n",
        "    retun the image   \n",
        "    '''\n",
        "    height=self.height\n",
        "    width=self.width\n",
        "    result_of_object_det=self.box_file[num]\n",
        "    boxes=result_of_object_det[\"detection_boxes\"]\n",
        "    class_names=result_of_object_det[\"detection_class_entities\"]\n",
        "    scores=result_of_object_det[\"detection_scores\"]\n",
        "    num_of_detetected_objects=boxes.shape[0]\n",
        "    blank_img=np.zeros(shape=[height,width], dtype=np.uint8)\n",
        "    #draw_our_car\n",
        "    blank_img=cv2.rectangle(blank_img,(self.x1,self.y1),(self.x2,self.y2),(255,0,0),-1)\n",
        "    \n",
        "    #total_iou=0\n",
        "    for i in range (0,num_of_detetected_objects):\n",
        "      det_score=scores[i].numpy()\n",
        "      threshold=0.1\n",
        "      if(det_score>threshold):\n",
        "            class_name=class_names[i].numpy()\n",
        "            class_name=str(class_name, 'UTF-8')\n",
        "            if class_name in self.classes_to_consider:\n",
        "                    box=boxes[i].numpy()\n",
        "                    ymin=int(box[0]*height)\n",
        "                    xmin=int(box[1]*width)\n",
        "                    ymax=int(box[2]*height)\n",
        "                    xmax=int(box[3]*width)\n",
        "                    blank_img=cv2.rectangle(blank_img,(xmin,ymin),(xmax,ymax),(255,0,0),-1)\n",
        "                    #iou cal \n",
        "                    #iou_of_curr_box=self.get_iou([xmin,ymin,xmax,ymax])\n",
        "                    #total_iou=total_iou + self.iou_sacle_factor*iou_of_curr_box\n",
        "    return blank_img\n",
        "\n",
        "  def return_iou(self,num):\n",
        "      '''\n",
        "      make a blank image of correct dimension height and width\n",
        "      read file and get coord of cars \n",
        "      fill the blank image with bouding boxes of cars \n",
        "      retun the image   \n",
        "      '''\n",
        "      height=self.height\n",
        "      width=self.width\n",
        "      result_of_object_det=self.box_file[num]\n",
        "      boxes=result_of_object_det[\"detection_boxes\"]\n",
        "      class_names=result_of_object_det[\"detection_class_entities\"]\n",
        "      scores=result_of_object_det[\"detection_scores\"]\n",
        "      num_of_detetected_objects=boxes.shape[0]\n",
        "      #blank_img=np.zeros(shape=[height,width], dtype=np.uint8)\n",
        "      #draw_our_car\n",
        "      #blank_img=cv2.rectangle(blank_img,(self.x1,self.y1),(self.x2,self.y2),(255,0,0),-1)\n",
        "      total_iou=0\n",
        "      for i in range (0,num_of_detetected_objects):\n",
        "        det_score=scores[i].numpy()\n",
        "        threshold=0.1\n",
        "        if(det_score>threshold):\n",
        "              class_name=class_names[i].numpy()\n",
        "              class_name=str(class_name, 'UTF-8')\n",
        "              if class_name in self.classes_to_consider:\n",
        "                      box=boxes[i].numpy()\n",
        "                      ymin=int(box[0]*height)\n",
        "                      xmin=int(box[1]*width)\n",
        "                      ymax=int(box[2]*height)\n",
        "                      xmax=int(box[3]*width)\n",
        "                      #blank_img=cv2.rectangle(blank_img,(xmin,ymin),(xmax,ymax),(255,0,0),-1)\n",
        "                      #iou cal \n",
        "                      iou_of_curr_box=self.get_iou([xmin,ymin,xmax,ymax])\n",
        "                      total_iou=total_iou + self.iou_sacle_factor*iou_of_curr_box\n",
        "      return total_iou\n",
        "\n",
        "  def act(self,action_num):\n",
        "    '''\n",
        "    0=> move Left self.step_size=20 \n",
        "    1=> no acton remain in position \n",
        "    2=> Right self.step_size=20\n",
        "    '''\n",
        "    if action_num==0:\n",
        "      self.x1=self.x1-20\n",
        "      self.x2=self.x2-20\n",
        "    elif action_num==2:\n",
        "      self.x1=self.x1+20\n",
        "      self.x2=self.x2+20\n",
        "\n",
        "  def step(self,action_num):\n",
        "    '''\n",
        "    take action\n",
        "    cal iou for prev frame stack \n",
        "    return next frame stack\n",
        "    \n",
        "    '''\n",
        "    #frame_num\n",
        "    #return next_state,reward,done\n",
        "    #def get_orginal_frame(self,frame_num):\n",
        "    \n",
        "    '''\n",
        "    1 executre action\n",
        "    2 calculate reward\n",
        "    3 update frame num \n",
        "    4 check done or not \n",
        "    5 fetch next set of frames \n",
        "    '''\n",
        "    done=0\n",
        "    self.act(action_num) #executre action\n",
        "    total_iou=self.return_total_iou(self.frame_num) #calculate reward\n",
        "    reward=-1*total_iou\n",
        "\n",
        "    self.frame_num=self.frame_num+40 #update frame num\n",
        "\n",
        "    next_set_frame_num=self.frame_num+40#check done or not \n",
        "    next_state=None\n",
        "    if(next_set_frame_num>980):\n",
        "      done=1\n",
        "      next_state= self.return_frame_stack(0)#just for the reply buffer wont be used during training coz (1-done)*next_state_q_values \n",
        "    else :\n",
        "      next_state= self.return_frame_stack(self.frame_num)#fetch next frame stack \n",
        "    return next_state,reward,done\n",
        "\n",
        "\n",
        "  def get_iou(self,box):\n",
        "      bb1={}\n",
        "      bb2={}\n",
        "      bb1['x1']=self.x1\n",
        "      bb1['y1']=self.y1\n",
        "      bb1['x2']=self.x2\n",
        "      bb1['y2']=self.y2\n",
        "\n",
        "      bb2['x1']=box[0]\n",
        "      bb2['y1']=box[1]\n",
        "      bb2['x2']=box[2]\n",
        "      bb2['y2']=box[3]\n",
        "      #print(bb2)\n",
        "      assert bb1['x1'] < bb1['x2']\n",
        "      assert bb1['y1'] < bb1['y2']\n",
        "      assert bb2['x1'] < bb2['x2']\n",
        "      assert bb2['y1'] < bb2['y2']\n",
        "\n",
        "      x_left = max(bb1['x1'], bb2['x1'])\n",
        "      y_top = max(bb1['y1'], bb2['y1'])\n",
        "      x_right = min(bb1['x2'], bb2['x2'])\n",
        "      y_bottom = min(bb1['y2'], bb2['y2'])\n",
        "\n",
        "      if x_right < x_left or y_bottom < y_top:\n",
        "          return 0.0\n",
        "    \n",
        "      # The intersection of two axis-aligned bounding boxes is always an\n",
        "      # axis-aligned bounding box\n",
        "      intersection_area = (x_right - x_left) * (y_bottom - y_top)\n",
        "      # compute the area of both AABBs\n",
        "      bb1_area = (bb1['x2'] - bb1['x1']) * (bb1['y2'] - bb1['y1'])\n",
        "      bb2_area = (bb2['x2'] - bb2['x1']) * (bb2['y2'] - bb2['y1'])\n",
        "\n",
        "      # compute the intersection over union by taking the intersection\n",
        "      # area and dividing it by the sum of prediction + ground-truth\n",
        "      # areas - the interesection area\n",
        "      iou = intersection_area / float(bb1_area + bb2_area - intersection_area)\n",
        "      assert iou >= 0.0\n",
        "      assert iou <= 1.0\n",
        "      return iou"
      ],
      "execution_count": null,
      "outputs": []
    },
    {
      "cell_type": "code",
      "metadata": {
        "id": "Q9JBFLMU9OT_"
      },
      "source": [
        "import random\n",
        "env=sim_env(\"obj_det_result_t3.txt\")"
      ],
      "execution_count": null,
      "outputs": []
    },
    {
      "cell_type": "code",
      "metadata": {
        "id": "w2w0Wdan2Ldu"
      },
      "source": [
        "#env_id = \"CartPole-v0\"\n",
        "#env = gym.make(env_id)\n"
      ],
      "execution_count": null,
      "outputs": []
    },
    {
      "cell_type": "markdown",
      "metadata": {
        "id": "h-FGOP8z9Vid"
      },
      "source": [
        "# training"
      ]
    },
    {
      "cell_type": "code",
      "metadata": {
        "id": "97TRiOUm2N82"
      },
      "source": [
        "epsilon_start = 1.0\n",
        "epsilon_final = 0.01\n",
        "epsilon_decay = 500\n",
        "\n",
        "epsilon_by_frame = lambda frame_idx: epsilon_final + (epsilon_start - epsilon_final) * math.exp(-1. * frame_idx / epsilon_decay)"
      ],
      "execution_count": null,
      "outputs": []
    },
    {
      "cell_type": "code",
      "metadata": {
        "colab": {
          "base_uri": "https://localhost:8080/",
          "height": 282
        },
        "id": "CNKygKV22RgW",
        "outputId": "a174a67e-d183-4491-eddc-8fdb43605d9d"
      },
      "source": [
        "plt.plot([epsilon_by_frame(i) for i in range(1000)])"
      ],
      "execution_count": null,
      "outputs": [
        {
          "output_type": "execute_result",
          "data": {
            "text/plain": [
              "[<matplotlib.lines.Line2D at 0x7fc71127bf50>]"
            ]
          },
          "metadata": {
            "tags": []
          },
          "execution_count": 49
        },
        {
          "output_type": "display_data",
          "data": {
            "image/png": "[encoded data removed]",
            "text/plain": [
              "<Figure size 432x288 with 1 Axes>"
            ]
          },
          "metadata": {
            "tags": [],
            "needs_background": "light"
          }
        }
      ]
    },
    {
      "cell_type": "code",
      "metadata": {
        "id": "b9OgwVAJ2UsH"
      },
      "source": [
        "class DQN(nn.Module):\n",
        "    def __init__(self,num_ch, num_actions):\n",
        "        super(DQN, self).__init__()\n",
        "        \n",
        "        self.block1 = nn.Sequential(\n",
        "            nn.Conv2d( num_ch,8, kernel_size=3, stride=2, padding=0),\n",
        "            nn.BatchNorm2d(8),\n",
        "            nn.ReLU(inplace=True),\n",
        "            nn.MaxPool2d(kernel_size=2, stride=2),\n",
        "            nn.Conv2d( 8,16, kernel_size=3, stride=2, padding=0),\n",
        "            nn.BatchNorm2d(16),\n",
        "            nn.ReLU(inplace=True),\n",
        "            nn.MaxPool2d(kernel_size=2, stride=2)\n",
        "            )\n",
        "\n",
        "        self.block2= nn.Sequential(\n",
        "            nn.Linear(55616, 512),\n",
        "            nn.ReLU(),\n",
        "            nn.Linear(512, 128),\n",
        "            nn.ReLU(),\n",
        "            nn.Linear(128, num_actions)\n",
        "            )\n",
        "        \n",
        "    def forward(self, x):\n",
        "        x=self.block1(x)\n",
        "        x = x.view(x.size(0), -1)#flatten\n",
        "        x=self.block2(x)\n",
        "        return x\n",
        "        \n",
        "    \n",
        "    def act(self, state, epsilon):\n",
        "        #print(\"ACTTT \")\n",
        "        if random.random() > epsilon:\n",
        "            state   = Variable(torch.FloatTensor(state).unsqueeze(0), volatile=True)\n",
        "            q_value = self.forward(state)\n",
        "            action  = q_value.max(1)[1].data[0]\n",
        "            action=action.item()\n",
        "\n",
        "            #print(\"state=:\",state,\"q_value=\",q_value,\"action=\",action)\n",
        "\n",
        "            #print(\"action from above\")\n",
        "        else:\n",
        "            action = random.randrange(3)\n",
        "            #print(\"action from below\")\n",
        "        return action"
      ],
      "execution_count": null,
      "outputs": []
    },
    {
      "cell_type": "markdown",
      "metadata": {
        "id": "VMvsBEBjsBBe"
      },
      "source": [
        "# conv test "
      ]
    },
    {
      "cell_type": "code",
      "metadata": {
        "id": "78uKdtQ0Y9qc"
      },
      "source": [
        ""
      ],
      "execution_count": null,
      "outputs": []
    },
    {
      "cell_type": "code",
      "metadata": {
        "id": "GJT8a1QyYQLr"
      },
      "source": [
        "block1 = nn.Sequential(\n",
        "            nn.Conv2d( 4,8, kernel_size=3, stride=2, padding=0),\n",
        "            nn.BatchNorm2d(8),\n",
        "            nn.ReLU(inplace=True),\n",
        "            nn.MaxPool2d(kernel_size=2, stride=2),\n",
        "            nn.Conv2d( 8,16, kernel_size=3, stride=2, padding=0),\n",
        "            nn.BatchNorm2d(16),\n",
        "            nn.ReLU(inplace=True),\n",
        "            nn.MaxPool2d(kernel_size=2, stride=2)\n",
        "            )"
      ],
      "execution_count": null,
      "outputs": []
    },
    {
      "cell_type": "code",
      "metadata": {
        "id": "A8TP-KdqYUkD"
      },
      "source": [
        "x=np.zeros(shape=[4,720,1280])"
      ],
      "execution_count": null,
      "outputs": []
    },
    {
      "cell_type": "code",
      "metadata": {
        "id": "CojYQNtTcS6u"
      },
      "source": [
        "y = torch.from_numpy(x)"
      ],
      "execution_count": null,
      "outputs": []
    },
    {
      "cell_type": "code",
      "metadata": {
        "colab": {
          "base_uri": "https://localhost:8080/"
        },
        "id": "2nVDsi2lc6q4",
        "outputId": "ff9c9f01-e807-4eac-ed7b-8e10ffca0794"
      },
      "source": [
        "y.shape"
      ],
      "execution_count": null,
      "outputs": [
        {
          "output_type": "execute_result",
          "data": {
            "text/plain": [
              "torch.Size([4, 720, 1280])"
            ]
          },
          "metadata": {
            "tags": []
          },
          "execution_count": 46
        }
      ]
    },
    {
      "cell_type": "code",
      "metadata": {
        "id": "S6Jcmi0Jc-Cr"
      },
      "source": [
        "y = y.unsqueeze(0)"
      ],
      "execution_count": null,
      "outputs": []
    },
    {
      "cell_type": "code",
      "metadata": {
        "id": "EkKYOva1dRRV"
      },
      "source": [
        "#conv2d expects(n_samples, channels, height, width)"
      ],
      "execution_count": null,
      "outputs": []
    },
    {
      "cell_type": "code",
      "metadata": {
        "id": "IEatyfcCntzl"
      },
      "source": [
        "y_f=y.float()"
      ],
      "execution_count": null,
      "outputs": []
    },
    {
      "cell_type": "code",
      "metadata": {
        "colab": {
          "base_uri": "https://localhost:8080/"
        },
        "id": "6P8qgasMo0m-",
        "outputId": "32be2023-e7a1-4cc4-d746-a709d2aa73e1"
      },
      "source": [
        "y_f.dtype"
      ],
      "execution_count": null,
      "outputs": [
        {
          "output_type": "execute_result",
          "data": {
            "text/plain": [
              "torch.float32"
            ]
          },
          "metadata": {
            "tags": []
          },
          "execution_count": 50
        }
      ]
    },
    {
      "cell_type": "code",
      "metadata": {
        "id": "LzZZgOOzYyG2"
      },
      "source": [
        "z=block1(y_f)"
      ],
      "execution_count": null,
      "outputs": []
    },
    {
      "cell_type": "code",
      "metadata": {
        "id": "X7lNfa4sY-kH",
        "colab": {
          "base_uri": "https://localhost:8080/"
        },
        "outputId": "0c3917f9-0bcf-4a5f-cd99-341db42575e9"
      },
      "source": [
        "z.shape"
      ],
      "execution_count": null,
      "outputs": [
        {
          "output_type": "execute_result",
          "data": {
            "text/plain": [
              "torch.Size([1, 16, 44, 79])"
            ]
          },
          "metadata": {
            "tags": []
          },
          "execution_count": 52
        }
      ]
    },
    {
      "cell_type": "code",
      "metadata": {
        "id": "XUa7DkP7ruRd"
      },
      "source": [
        "zx = z.view(z.size(0), -1)"
      ],
      "execution_count": null,
      "outputs": []
    },
    {
      "cell_type": "code",
      "metadata": {
        "colab": {
          "base_uri": "https://localhost:8080/"
        },
        "id": "IRhZWgmmrx7H",
        "outputId": "cf1b376e-dcd3-47ba-d7e3-f1a8967ec7e2"
      },
      "source": [
        "zx.shape"
      ],
      "execution_count": null,
      "outputs": [
        {
          "output_type": "execute_result",
          "data": {
            "text/plain": [
              "torch.Size([1, 55616])"
            ]
          },
          "metadata": {
            "tags": []
          },
          "execution_count": 54
        }
      ]
    },
    {
      "cell_type": "markdown",
      "metadata": {
        "id": "EaFdnTKEsIBf"
      },
      "source": [
        "# New Section"
      ]
    },
    {
      "cell_type": "code",
      "metadata": {
        "id": "3bvjg4sP2X7W"
      },
      "source": [
        "\n",
        "\n",
        "model = DQN(4,3)\n",
        "if USE_CUDA:\n",
        "    model = model.cuda()\n",
        "    \n",
        "optimizer = optim.Adam(model.parameters(),lr=learning_rate)\n",
        "#scheduler = optim.lr_scheduler.StepLR(optimizer, step_size=decay_steps, gamma=deacy_rate)\n",
        "replay_buffer = ReplayBuffer(1000)"
      ],
      "execution_count": null,
      "outputs": []
    },
    {
      "cell_type": "code",
      "metadata": {
        "id": "OrfVycp32Z9v"
      },
      "source": [
        "def compute_td_loss(batch_size):\n",
        "    state, action, reward, next_state, done = replay_buffer.sample(batch_size)\n",
        "    state      = Variable(torch.FloatTensor(np.float32(state)))\n",
        "    next_state = Variable(torch.FloatTensor(np.float32(next_state)), volatile=True)\n",
        "    action     = Variable(torch.LongTensor(action))\n",
        "    reward     = Variable(torch.FloatTensor(reward))\n",
        "    done       = Variable(torch.FloatTensor(done))\n",
        "\n",
        "    q_values      = model(state)\n",
        "    next_q_values = model(next_state)\n",
        "\n",
        "    q_value          = q_values.gather(1, action.unsqueeze(1)).squeeze(1)\n",
        "    next_q_value     = next_q_values.max(1)[0]\n",
        "    expected_q_value = reward + gamma * next_q_value * (1 - done)\n",
        "    \n",
        "    loss = (q_value - Variable(expected_q_value.data)).pow(2).mean()\n",
        "        \n",
        "    optimizer.zero_grad()\n",
        "    loss.backward()\n",
        "    optimizer.step()\n",
        "    #scheduler.step()\n",
        "    \n",
        "    return loss"
      ],
      "execution_count": null,
      "outputs": []
    },
    {
      "cell_type": "code",
      "metadata": {
        "id": "rshiFHWx2cku"
      },
      "source": [
        "\n",
        "def plot(frame_idx, rewards, losses):\n",
        "    clear_output(True)\n",
        "    plt.figure(figsize=(20,5))\n",
        "    plt.subplot(131)\n",
        "    plt.title('frame %s. reward: %s' % (frame_idx, np.mean(rewards[-10:])))\n",
        "    plt.plot(rewards)\n",
        "    plt.subplot(132)\n",
        "    plt.title('loss')\n",
        "    plt.plot(losses)\n",
        "    plt.show()"
      ],
      "execution_count": null,
      "outputs": []
    },
    {
      "cell_type": "code",
      "metadata": {
        "id": "RE60Wkn5csbK"
      },
      "source": [
        "#state=env.reset()"
      ],
      "execution_count": null,
      "outputs": []
    },
    {
      "cell_type": "code",
      "metadata": {
        "id": "mKZoqrnEcwKc"
      },
      "source": [
        "#print(state.shape)"
      ],
      "execution_count": null,
      "outputs": []
    },
    {
      "cell_type": "code",
      "metadata": {
        "id": "Ql7ktcIG2emG",
        "colab": {
          "base_uri": "https://localhost:8080/",
          "height": 336
        },
        "outputId": "1665416f-42aa-4f2e-fc1a-4470a8a698f5"
      },
      "source": [
        "num_frames = 1000\n",
        "batch_size = 32\n",
        "gamma      = 0.99\n",
        "\n",
        "losses = []\n",
        "all_rewards = []\n",
        "episode_reward = 0\n",
        "\n",
        "state = env.reset()\n",
        "for frame_idx in range(1, num_frames + 1):\n",
        "    epsilon = epsilon_by_frame(frame_idx)\n",
        "    #state=torch.from_numpy(state)\n",
        "    #state=state.unsqueeze(0)\n",
        "    #state=state.float()\n",
        "\n",
        "    #print(state.shape)\n",
        "    #print(done)\n",
        "    #print(state.shape)\n",
        "    \n",
        "    action = model.act(state, epsilon)\n",
        "    #print(action)\n",
        "    next_state, reward, done = env.step(action)\n",
        "    #print(next_state.shape)\n",
        "    replay_buffer.push(state.squeeze(), action, reward, next_state, done)\n",
        "    \n",
        "    state = next_state\n",
        "    episode_reward += reward\n",
        "    \n",
        "    if done:\n",
        "        state = env.reset()\n",
        "        all_rewards.append(episode_reward)\n",
        "        episode_reward = 0\n",
        "        \n",
        "    if len(replay_buffer) > batch_size:\n",
        "        loss = compute_td_loss(batch_size)\n",
        "        #print(loss.item())\n",
        "        #losses.append(loss.data[0])\n",
        "        losses.append(loss.item())\n",
        "        \n",
        "    if frame_idx % 10 == 0:\n",
        "        plot(frame_idx, all_rewards, losses)"
      ],
      "execution_count": null,
      "outputs": [
        {
          "output_type": "display_data",
          "data": {
            "image/png": "[encoded data removed]",
            "text/plain": [
              "<Figure size 1440x360 with 2 Axes>"
            ]
          },
          "metadata": {
            "tags": [],
            "needs_background": "light"
          }
        }
      ]
    },
    {
      "cell_type": "code",
      "metadata": {
        "id": "esUEVqOwwbGV"
      },
      "source": [
        "'''\n",
        "saving model\n",
        "torch.save(model.state_dict(), PATH)\n",
        "model = TheModelClass(*args, **kwargs)\n",
        "model.load_state_dict(torch.load(PATH))\n",
        "model.eval()\n",
        "'''"
      ],
      "execution_count": null,
      "outputs": []
    },
    {
      "cell_type": "code",
      "metadata": {
        "colab": {
          "base_uri": "https://localhost:8080/"
        },
        "id": "P_ZUeNuu10cK",
        "outputId": "42acaa36-2daa-446a-b6c6-4db8ae21bdd1"
      },
      "source": [
        "ls"
      ],
      "execution_count": null,
      "outputs": [
        {
          "output_type": "stream",
          "text": [
            "'download (3).png'   model_param   obj_det_result_t3.txt   t3.mp4\n"
          ],
          "name": "stdout"
        }
      ]
    },
    {
      "cell_type": "code",
      "metadata": {
        "id": "r-xiAmRg1qZ1"
      },
      "source": [
        "torch.save(model.state_dict(),\"model_param\")"
      ],
      "execution_count": null,
      "outputs": []
    },
    {
      "cell_type": "code",
      "metadata": {
        "id": "B0d0dKUA19K5"
      },
      "source": [
        "model_s = DQN(4,3)"
      ],
      "execution_count": null,
      "outputs": []
    },
    {
      "cell_type": "code",
      "metadata": {
        "colab": {
          "base_uri": "https://localhost:8080/"
        },
        "id": "RaPApAn92CFS",
        "outputId": "4d81cd5c-deff-4ae3-ea74-ccdb21a7c02a"
      },
      "source": [
        "model_s.load_state_dict(torch.load(\"model_param\"))\n",
        "model_s.eval()"
      ],
      "execution_count": null,
      "outputs": [
        {
          "output_type": "execute_result",
          "data": {
            "text/plain": [
              "DQN(\n",
              "  (block1): Sequential(\n",
              "    (0): Conv2d(4, 8, kernel_size=(3, 3), stride=(2, 2))\n",
              "    (1): BatchNorm2d(8, eps=1e-05, momentum=0.1, affine=True, track_running_stats=True)\n",
              "    (2): ReLU(inplace=True)\n",
              "    (3): MaxPool2d(kernel_size=2, stride=2, padding=0, dilation=1, ceil_mode=False)\n",
              "    (4): Conv2d(8, 16, kernel_size=(3, 3), stride=(2, 2))\n",
              "    (5): BatchNorm2d(16, eps=1e-05, momentum=0.1, affine=True, track_running_stats=True)\n",
              "    (6): ReLU(inplace=True)\n",
              "    (7): MaxPool2d(kernel_size=2, stride=2, padding=0, dilation=1, ceil_mode=False)\n",
              "  )\n",
              "  (block2): Sequential(\n",
              "    (0): Linear(in_features=55616, out_features=512, bias=True)\n",
              "    (1): ReLU()\n",
              "    (2): Linear(in_features=512, out_features=128, bias=True)\n",
              "    (3): ReLU()\n",
              "    (4): Linear(in_features=128, out_features=3, bias=True)\n",
              "  )\n",
              ")"
            ]
          },
          "metadata": {
            "tags": []
          },
          "execution_count": 62
        }
      ]
    },
    {
      "cell_type": "markdown",
      "metadata": {
        "id": "3hCQl36vsylq"
      },
      "source": [
        "# run env for 10 times with trained model "
      ]
    },
    {
      "cell_type": "code",
      "metadata": {
        "colab": {
          "base_uri": "https://localhost:8080/"
        },
        "id": "IU1wOOxEtD6h",
        "outputId": "be3704c7-34b3-4a8d-b526-619af170e36c"
      },
      "source": [
        "state=env.reset()\n",
        "r=0\n",
        "reward_list=[]\n",
        "i=0\n",
        "while(1):\n",
        "\n",
        "  action = model.act(state, epsilon)\n",
        "  #print(action)\n",
        "  next_state, reward, done = env.step(action)\n",
        "  state=next_state\n",
        "  r=reward+r\n",
        "  if done==1:\n",
        "    state=env.reset()\n",
        "    reward_list.append(r)\n",
        "    print(\"i=\",i,\"r=\",r)\n",
        "    r=0\n",
        "    i=i+1\n",
        "\n",
        "  if i>10:\n",
        "    break"
      ],
      "execution_count": null,
      "outputs": [
        {
          "output_type": "stream",
          "text": [
            "/usr/local/lib/python3.7/dist-packages/ipykernel_launcher.py:2: UserWarning: volatile was removed and now has no effect. Use `with torch.no_grad():` instead.\n",
            "  \n"
          ],
          "name": "stderr"
        },
        {
          "output_type": "stream",
          "text": [
            "i= 0 r= 0.0\n",
            "i= 1 r= -0.02926469575409644\n",
            "i= 2 r= -4.9818406117809335\n",
            "i= 3 r= 0.0\n",
            "i= 4 r= 0.0\n",
            "i= 5 r= 0.0\n",
            "i= 6 r= 0.0\n",
            "i= 7 r= 0.0\n",
            "i= 8 r= 0.0\n",
            "i= 9 r= -8.507203883245934\n",
            "i= 10 r= 0.0\n"
          ],
          "name": "stdout"
        }
      ]
    },
    {
      "cell_type": "markdown",
      "metadata": {
        "id": "MVYz61Ujs7a8"
      },
      "source": [
        "# Run env 10 times with random action "
      ]
    },
    {
      "cell_type": "code",
      "metadata": {
        "id": "78cSuMnX4WvI"
      },
      "source": [
        "import random"
      ],
      "execution_count": null,
      "outputs": []
    },
    {
      "cell_type": "code",
      "metadata": {
        "colab": {
          "base_uri": "https://localhost:8080/"
        },
        "id": "nCU94i9u4FjM",
        "outputId": "5aba5be0-1f6f-4b60-93b4-4fb0c8652c97"
      },
      "source": [
        "state=env.reset()\n",
        "r=0\n",
        "reward_list=[]\n",
        "i=0\n",
        "action_list = [0,1,2]\n",
        "\n",
        "\n",
        "while(1):\n",
        "  action=random.choice(action_list)\n",
        "  #print(action)\n",
        "  next_state, reward, done = env.step(action)\n",
        "  state=next_state\n",
        "  r=reward+r\n",
        "  if done==1:\n",
        "    state=env.reset()\n",
        "    reward_list.append(r)\n",
        "    print(\"i=\",i,\"r=\",r)\n",
        "    r=0\n",
        "    i=i+1\n",
        "\n",
        "  if i>10:\n",
        "    break"
      ],
      "execution_count": null,
      "outputs": [
        {
          "output_type": "stream",
          "text": [
            "i= 0 r= -80.1643980965203\n",
            "i= 1 r= -69.8046546797671\n",
            "i= 2 r= -71.43254838830487\n",
            "i= 3 r= -74.52974781325412\n",
            "i= 4 r= -80.6649352953337\n",
            "i= 5 r= -81.67242148557844\n",
            "i= 6 r= -58.39933610230575\n",
            "i= 7 r= -16.229273652821345\n",
            "i= 8 r= -61.4681258333171\n",
            "i= 9 r= -26.511832364045084\n",
            "i= 10 r= -69.64736309232293\n"
          ],
          "name": "stdout"
        }
      ]
    },
    {
      "cell_type": "code",
      "metadata": {
        "id": "7UA33RRy4mro"
      },
      "source": [
        ""
      ],
      "execution_count": null,
      "outputs": []
    }
  ]
}